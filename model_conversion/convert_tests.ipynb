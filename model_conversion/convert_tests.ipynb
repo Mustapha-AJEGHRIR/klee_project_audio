{
 "cells": [
  {
   "cell_type": "code",
   "execution_count": 1,
   "metadata": {},
   "outputs": [],
   "source": [
    "import tensorflow as tf\n",
    "import tensorflow.keras.backend as K\n",
    "import numpy as np\n",
    "\n",
    "# gpus = tf.config.experimental.list_physical_devices('GPU')\n",
    "# if gpus:\n",
    "#   try:\n",
    "#     tf.config.experimental.set_virtual_device_configuration(\n",
    "#         gpus[0],[tf.config.experimental.VirtualDeviceConfiguration(memory_limit=1024)])\n",
    "#   except RuntimeError as e:\n",
    "#     print(e)"
   ]
  },
  {
   "cell_type": "markdown",
   "metadata": {
    "tags": []
   },
   "source": [
    "### utils"
   ]
  },
  {
   "cell_type": "code",
   "execution_count": 2,
   "metadata": {},
   "outputs": [],
   "source": [
    "def class_mae(y_true, y_pred):\n",
    "    return K.mean(\n",
    "        K.abs(\n",
    "            K.argmax(y_pred, axis=-1) - K.argmax(y_true, axis=-1)\n",
    "        ),\n",
    "        axis=-1\n",
    "    )\n"
   ]
  },
  {
   "cell_type": "code",
   "execution_count": 3,
   "metadata": {},
   "outputs": [
    {
     "name": "stdout",
     "output_type": "stream",
     "text": [
      "2.7.0\n"
     ]
    }
   ],
   "source": [
    "# print(keras.__version__)\n",
    "print(tf.__version__)"
   ]
  },
  {
   "cell_type": "code",
   "execution_count": 4,
   "metadata": {},
   "outputs": [],
   "source": [
    "# print(\"Keras version :\",keras.__version__)"
   ]
  },
  {
   "cell_type": "markdown",
   "metadata": {
    "tags": []
   },
   "source": [
    "# Convert model to new tensorflow"
   ]
  },
  {
   "cell_type": "code",
   "execution_count": 6,
   "metadata": {},
   "outputs": [
    {
     "name": "stdout",
     "output_type": "stream",
     "text": [
      "WARNING:tensorflow:Layer lstm_1 will not use cuDNN kernels since it doesn't meet the criteria. It will use a generic GPU kernel as fallback when running on GPU.\n",
      "Model: \"sequential_1\"\n",
      "_________________________________________________________________\n",
      " Layer (type)                Output Shape              Param #   \n",
      "=================================================================\n",
      " zero1 (ZeroPadding2D)       (None, 1, 500, 201)       0         \n",
      "                                                                 \n",
      " conv1 (Conv2D)              (None, 64, 498, 199)      640       \n",
      "                                                                 \n",
      " conv2 (Conv2D)              (None, 32, 496, 197)      18464     \n",
      "                                                                 \n",
      " pool1 (MaxPooling2D)        (None, 32, 165, 65)       0         \n",
      "                                                                 \n",
      " conv3 (Conv2D)              (None, 128, 163, 63)      36992     \n",
      "                                                                 \n",
      " conv4 (Conv2D)              (None, 64, 161, 61)       73792     \n",
      "                                                                 \n",
      " pool2 (MaxPooling2D)        (None, 64, 53, 20)        0         \n",
      "                                                                 \n",
      " dropout_1 (Dropout)         (None, 64, 53, 20)        0         \n",
      "                                                                 \n",
      " permute_1 (Permute)         (None, 53, 64, 20)        0         \n",
      "                                                                 \n",
      " reshape_1 (Reshape)         (None, 53, 1280)          0         \n",
      "                                                                 \n",
      " lstm_1 (LSTM)               (None, 53, 40)            211360    \n",
      "                                                                 \n",
      " maxpooling1d_1 (MaxPooling1  (None, 26, 40)           0         \n",
      " D)                                                              \n",
      "                                                                 \n",
      " flatten_1 (Flatten)         (None, 1040)              0         \n",
      "                                                                 \n",
      " dense_1 (Dense)             (None, 11)                11451     \n",
      "                                                                 \n",
      " activation_1 (Activation)   (None, 11)                0         \n",
      "                                                                 \n",
      "=================================================================\n",
      "Total params: 352,699\n",
      "Trainable params: 352,699\n",
      "Non-trainable params: 0\n",
      "_________________________________________________________________\n"
     ]
    }
   ],
   "source": [
    "with open('json_config/CRNN_config.json') as json_file:\n",
    "    json_config = json_file.read()\n",
    "\n",
    "model = tf.compat.v1.keras.models.model_from_json(\n",
    "    json_config,\n",
    "    custom_objects={\n",
    "        'class_mae': class_mae,\n",
    "        'exp': K.exp,\n",
    "    }\n",
    ")\n",
    "model.summary()\n"
   ]
  },
  {
   "cell_type": "code",
   "execution_count": 7,
   "metadata": {},
   "outputs": [],
   "source": [
    "model.load_weights(\"../CountNet/models/CRNN.h5\")"
   ]
  },
  {
   "cell_type": "markdown",
   "metadata": {},
   "source": [
    "# test"
   ]
  },
  {
   "cell_type": "code",
   "execution_count": 150,
   "metadata": {},
   "outputs": [],
   "source": [
    "from time import time\n",
    "RUN_FOR = 100"
   ]
  },
  {
   "cell_type": "code",
   "execution_count": 31,
   "metadata": {},
   "outputs": [
    {
     "name": "stdout",
     "output_type": "stream",
     "text": [
      "WARNING:tensorflow:Layer lstm_1 will not use cuDNN kernels since it doesn't meet the criteria. It will use a generic GPU kernel as fallback when running on GPU.\n",
      "WARNING:tensorflow:No training configuration found in save file, so the model was *not* compiled. Compile it manually.\n"
     ]
    }
   ],
   "source": [
    "model = tf.keras.models.load_model(\"models/CRNN\")"
   ]
  },
  {
   "cell_type": "code",
   "execution_count": 33,
   "metadata": {},
   "outputs": [
    {
     "name": "stdout",
     "output_type": "stream",
     "text": [
      "Input shape (1, 1, 500, 201)\n",
      "Output shape (1, 11)\n",
      "WARNING:tensorflow:Unresolved object in checkpoint: (root).layer-6._random_generator\n",
      "WARNING:tensorflow:Unresolved object in checkpoint: (root).layer_with_weights-3._random_generator\n",
      "WARNING:tensorflow:Unresolved object in checkpoint: (root).layer_with_weights-3.cell._random_generator\n",
      "WARNING:tensorflow:A checkpoint was restored (e.g. tf.train.Checkpoint.restore or tf.keras.Model.load_weights) but not all checkpointed values were used. See above for specific issues. Use expect_partial() on the load status object, e.g. tf.train.Checkpoint.restore(...).expect_partial(), to silence these warnings, or use assert_consumed() to make the check explicit. See https://www.tensorflow.org/guide/checkpoint#loading_mechanics for details.\n",
      "Duration :5.19s\n"
     ]
    }
   ],
   "source": [
    "# tf random tensor\n",
    "tf_random_tensor = tf.random.uniform((1, 1, 500, 201))\n",
    "print(\"Input shape\", tf_random_tensor.shape)\n",
    "print(\"Output shape\", model.predict(tf_random_tensor).shape)\n",
    "tik = time()\n",
    "for _ in range(RUN_FOR):\n",
    "    model.predict(tf_random_tensor)\n",
    "tok = time()\n",
    "print(\"Duration :{:.2f}s\".format(tok-tik)) "
   ]
  },
  {
   "cell_type": "code",
   "execution_count": 47,
   "metadata": {},
   "outputs": [
    {
     "name": "stdout",
     "output_type": "stream",
     "text": [
      "WARNING:tensorflow:Layer lstm_1 will not use cuDNN kernels since it doesn't meet the criteria. It will use a generic GPU kernel as fallback when running on GPU.\n",
      "WARNING:tensorflow:No training configuration found in save file, so the model was *not* compiled. Compile it manually.\n"
     ]
    }
   ],
   "source": [
    "model = tf.keras.models.load_model(\"models/F-CRNN\")"
   ]
  },
  {
   "cell_type": "code",
   "execution_count": 48,
   "metadata": {},
   "outputs": [
    {
     "name": "stdout",
     "output_type": "stream",
     "text": [
      "Input shape (1, 500, 201)\n",
      "Output shape (1, 11)\n",
      "Duration :5.02s\n"
     ]
    }
   ],
   "source": [
    "# tf random tensor\n",
    "tf_random_tensor = tf.random.uniform((1, 500, 201))\n",
    "print(\"Input shape\", tf_random_tensor.shape)\n",
    "print(\"Output shape\", model.predict(tf_random_tensor).shape)\n",
    "tik = time()\n",
    "for _ in range(RUN_FOR):\n",
    "    model.predict(tf_random_tensor)\n",
    "tok = time()\n",
    "print(\"Duration :{:.2f}s\".format(tok-tik)) "
   ]
  },
  {
   "cell_type": "markdown",
   "metadata": {},
   "source": [
    "# ONNX"
   ]
  },
  {
   "cell_type": "code",
   "execution_count": null,
   "metadata": {},
   "outputs": [],
   "source": []
  },
  {
   "cell_type": "code",
   "execution_count": 163,
   "metadata": {},
   "outputs": [
    {
     "name": "stdout",
     "output_type": "stream",
     "text": [
      "Activations : [9.8316780e-12 2.9691032e-01 1.8009843e-03 1.6248560e-13 1.2032196e-19\n",
      " 1.4747555e-19 3.9625079e-14 3.3056147e-09 3.8585404e-06 5.7177003e-03\n",
      " 6.9556713e-01]\n",
      "label : 10\n",
      "Duration :2.18s\n"
     ]
    }
   ],
   "source": [
    "import onnxruntime as ort\n",
    "import numpy as np\n",
    "\n",
    "tf_random_tensor = tf.random.uniform((1,1, 500, 201))\n",
    "\n",
    "\n",
    "ort_sess = ort.InferenceSession('CRNN_ONNX.onnx')\n",
    "outputs = ort_sess.run([], {'zero1_input': tf_random_tensor.numpy()})\n",
    "# Print Result\n",
    "result = outputs[0].argmax(axis=1)\n",
    "print(\"Activations :\", outputs[0][0])\n",
    "print(\"label :\",result[0])\n",
    "\n",
    "tik = time()\n",
    "for _ in range(RUN_FOR):\n",
    "    ort_sess.run([], {'zero1_input': tf_random_tensor.numpy()})\n",
    "tok = time()\n",
    "print(\"Duration :{:.2f}s\".format(tok-tik)) "
   ]
  },
  {
   "cell_type": "code",
   "execution_count": 164,
   "metadata": {},
   "outputs": [
    {
     "name": "stdout",
     "output_type": "stream",
     "text": [
      "Activations : [9.24522769e-09 3.23386266e-05 2.85154317e-10 3.53782013e-14\n",
      " 1.06292259e-15 3.63865296e-14 1.09060656e-10 2.83103816e-07\n",
      " 6.89089138e-05 1.53245600e-02 9.84573901e-01]\n",
      "label : 10\n",
      "Duration :0.04s\n"
     ]
    }
   ],
   "source": [
    "import onnxruntime as ort\n",
    "import numpy as np\n",
    "\n",
    "tf_random_tensor = tf.random.uniform((1, 500, 201))\n",
    "\n",
    "\n",
    "ort_sess = ort.InferenceSession('F-CRNN_ONNX.onnx')\n",
    "outputs = ort_sess.run([], {'zero1_input': tf_random_tensor.numpy()})\n",
    "# Print Result\n",
    "result = outputs[0].argmax(axis=1)\n",
    "print(\"Activations :\", outputs[0][0])\n",
    "print(\"label :\",result[0])\n",
    "\n",
    "tik = time()\n",
    "for _ in range(RUN_FOR):\n",
    "    ort_sess.run([], {'zero1_input': tf_random_tensor.numpy()})\n",
    "tok = time()\n",
    "print(\"Duration :{:.2f}s\".format(tok-tik)) "
   ]
  }
 ],
 "metadata": {
  "interpreter": {
   "hash": "34a01c7cbd4d230e2daaa44d8acb4ab26fe27453faf910e8270bab9ecc3bb26f"
  },
  "kernelspec": {
   "display_name": "default:Python",
   "language": "python",
   "name": "conda-env-default-py"
  },
  "language_info": {
   "codemirror_mode": {
    "name": "ipython",
    "version": 3
   },
   "file_extension": ".py",
   "mimetype": "text/x-python",
   "name": "python",
   "nbconvert_exporter": "python",
   "pygments_lexer": "ipython3",
   "version": "3.9.9"
  }
 },
 "nbformat": 4,
 "nbformat_minor": 4
}
