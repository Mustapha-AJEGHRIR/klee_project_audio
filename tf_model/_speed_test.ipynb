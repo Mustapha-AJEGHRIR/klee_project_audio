{
 "cells": [
  {
   "cell_type": "markdown",
   "metadata": {},
   "source": [
    "# Imports"
   ]
  },
  {
   "cell_type": "code",
   "execution_count": 1,
   "metadata": {},
   "outputs": [],
   "source": [
    "import tensorflow as tf\n",
    "\n",
    "import onnxruntime as ort\n",
    "import numpy as np\n",
    "from time import time"
   ]
  },
  {
   "cell_type": "markdown",
   "metadata": {},
   "source": [
    "Run tests only on cpu"
   ]
  },
  {
   "cell_type": "code",
   "execution_count": 2,
   "metadata": {},
   "outputs": [],
   "source": [
    "import os\n",
    "os.environ[\"CUDA_VISIBLE_DEVICES\"] = \"-1\""
   ]
  },
  {
   "cell_type": "markdown",
   "metadata": {},
   "source": [
    "# Speed test"
   ]
  },
  {
   "cell_type": "code",
   "execution_count": 6,
   "metadata": {},
   "outputs": [],
   "source": [
    "RUNS = 100"
   ]
  },
  {
   "cell_type": "markdown",
   "metadata": {},
   "source": [
    "## Normal model"
   ]
  },
  {
   "cell_type": "code",
   "execution_count": 7,
   "metadata": {},
   "outputs": [
    {
     "name": "stdout",
     "output_type": "stream",
     "text": [
      "tf.Tensor([[-0.4653147   0.21275467]], shape=(1, 2), dtype=float32)\n",
      "Duration :17.60ms\n"
     ]
    }
   ],
   "source": [
    "model = tf.keras.models.load_model(\"saved/tf_model\")\n",
    "input = tf.random.normal([1, 201, 498])\n",
    "\n",
    "tik = time()\n",
    "for _ in range(RUNS):\n",
    "    model(input)\n",
    "tok = time()\n",
    "print(model(input))\n",
    "print(\"Duration :{:.2f}ms\".format(((tok-tik)/RUNS)*1000))"
   ]
  },
  {
   "cell_type": "markdown",
   "metadata": {},
   "source": [
    "## ONNX"
   ]
  },
  {
   "cell_type": "code",
   "execution_count": 8,
   "metadata": {},
   "outputs": [
    {
     "name": "stdout",
     "output_type": "stream",
     "text": [
      "Activations : [-1.0876914  0.2596222]\n",
      "Duration :0.35ms\n"
     ]
    }
   ],
   "source": [
    "tf_random_tensor = np.random.rand(1, 201, 498)\n",
    "tf_random_tensor = tf_random_tensor.astype(np.float32)\n",
    "\n",
    "ort_sess = ort.InferenceSession('onnx/f-crnn.onnx')\n",
    "outputs = ort_sess.run([], {'x': tf_random_tensor})\n",
    "# Print Result\n",
    "# result = outputs[0].argmax(axis=1)\n",
    "print(\"Activations :\", outputs[0][0])\n",
    "# print(\"label :\",result[0])\n",
    "\n",
    "tik = time()\n",
    "for _ in range(RUNS):\n",
    "    ort_sess.run([], {'x': tf_random_tensor})\n",
    "tok = time()\n",
    "print(\"Duration :{:.2f}ms\".format(((tok-tik)/RUNS)*1000))"
   ]
  },
  {
   "cell_type": "markdown",
   "metadata": {},
   "source": [
    "## TF-lite"
   ]
  },
  {
   "cell_type": "code",
   "execution_count": 11,
   "metadata": {},
   "outputs": [
    {
     "name": "stdout",
     "output_type": "stream",
     "text": [
      "Estimated count of arithmetic ops: 20.144 M  ops, equivalently 10.072 M  MACs\n"
     ]
    },
    {
     "name": "stderr",
     "output_type": "stream",
     "text": [
      "2022-04-12 20:19:18.352333: W tensorflow/compiler/mlir/lite/python/tf_tfl_flatbuffer_helpers.cc:357] Ignored output_format.\n",
      "2022-04-12 20:19:18.352384: W tensorflow/compiler/mlir/lite/python/tf_tfl_flatbuffer_helpers.cc:360] Ignored drop_control_dependency.\n",
      "2022-04-12 20:19:18.352568: I tensorflow/cc/saved_model/reader.cc:43] Reading SavedModel from: saved/tf_model\n",
      "2022-04-12 20:19:18.378409: I tensorflow/cc/saved_model/reader.cc:78] Reading meta graph with tags { serve }\n",
      "2022-04-12 20:19:18.378481: I tensorflow/cc/saved_model/reader.cc:119] Reading SavedModel debug info (if present) from: saved/tf_model\n",
      "2022-04-12 20:19:18.429090: I tensorflow/cc/saved_model/loader.cc:228] Restoring SavedModel bundle.\n",
      "2022-04-12 20:19:18.574976: I tensorflow/cc/saved_model/loader.cc:212] Running initialization op on SavedModel bundle at path: saved/tf_model\n",
      "2022-04-12 20:19:18.655239: I tensorflow/cc/saved_model/loader.cc:301] SavedModel load for tags { serve }; Status: success: OK. Took 302672 microseconds.\n",
      "2022-04-12 20:19:19.083042: I tensorflow/compiler/mlir/lite/flatbuffer_export.cc:1963] Estimated count of arithmetic ops: 20.144 M  ops, equivalently 10.072 M  MACs\n",
      "\n",
      "2022-04-12 20:19:19.083466: I tensorflow/lite/tools/optimize/quantize_weights.cc:210] Skipping optional tensor input 9 of operation UNIDIRECTIONAL_SEQUENCE_LSTM\n",
      "2022-04-12 20:19:19.083480: I tensorflow/lite/tools/optimize/quantize_weights.cc:210] Skipping optional tensor input 10 of operation UNIDIRECTIONAL_SEQUENCE_LSTM\n",
      "2022-04-12 20:19:19.083483: I tensorflow/lite/tools/optimize/quantize_weights.cc:210] Skipping optional tensor input 11 of operation UNIDIRECTIONAL_SEQUENCE_LSTM\n",
      "2022-04-12 20:19:19.083485: I tensorflow/lite/tools/optimize/quantize_weights.cc:210] Skipping optional tensor input 16 of operation UNIDIRECTIONAL_SEQUENCE_LSTM\n",
      "2022-04-12 20:19:19.083489: I tensorflow/lite/tools/optimize/quantize_weights.cc:225] Skipping quantization of tensor sequential/dense/MatMul1 because it has fewer than 1024 elements (800).\n"
     ]
    }
   ],
   "source": [
    "%%capture\n",
    "converter = tf.lite.TFLiteConverter.from_saved_model(\"saved/tf_model\")\n",
    "converter.optimizations = [tf.lite.Optimize.DEFAULT]\n",
    "tflite_model = converter.convert()"
   ]
  },
  {
   "cell_type": "code",
   "execution_count": 12,
   "metadata": {},
   "outputs": [
    {
     "name": "stdout",
     "output_type": "stream",
     "text": [
      "[-0.69725245  0.4087796 ]\n",
      "Duration :23.87ms\n"
     ]
    }
   ],
   "source": [
    "interpreter = tf.lite.Interpreter(model_content=tflite_model)\n",
    "interpreter.allocate_tensors()\n",
    "\n",
    "input_index = interpreter.get_input_details()[0]['index']\n",
    "output_index = interpreter.get_output_details()[0]['index']\n",
    "\n",
    "interpreter.set_tensor(input_index, tf.random.normal([1, 201, 498]))\n",
    "\n",
    "tik = time()\n",
    "for _ in range(RUNS):\n",
    "    interpreter.invoke()\n",
    "tok = time()\n",
    "output = interpreter.tensor(output_index)()[0]\n",
    "print(output)\n",
    "print(\"Duration :{:.2f}ms\".format(((tok-tik)/RUNS)*1000))"
   ]
  }
 ],
 "metadata": {
  "interpreter": {
   "hash": "34a01c7cbd4d230e2daaa44d8acb4ab26fe27453faf910e8270bab9ecc3bb26f"
  },
  "kernelspec": {
   "display_name": "Python 3.9.9 ('series_forcasting')",
   "language": "python",
   "name": "python3"
  },
  "language_info": {
   "codemirror_mode": {
    "name": "ipython",
    "version": 3
   },
   "file_extension": ".py",
   "mimetype": "text/x-python",
   "name": "python",
   "nbconvert_exporter": "python",
   "pygments_lexer": "ipython3",
   "version": "3.9.9"
  },
  "orig_nbformat": 4
 },
 "nbformat": 4,
 "nbformat_minor": 2
}
